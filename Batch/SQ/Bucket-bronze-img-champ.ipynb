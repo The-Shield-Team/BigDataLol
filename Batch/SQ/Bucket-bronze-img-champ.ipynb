{
  "nbformat": 4,
  "nbformat_minor": 0,
  "metadata": {
    "colab": {
      "cell_execution_strategy": "setup",
      "provenance": []
    },
    "kernelspec": {
      "name": "python3",
      "display_name": "Python 3"
    },
    "language_info": {
      "name": "python"
    }
  },
  "cells": [
    {
      "cell_type": "markdown",
      "source": [
        "Champion bucket to Bronze"
      ],
      "metadata": {
        "id": "gmKEnHPMjiM8"
      }
    },
    {
      "cell_type": "code",
      "source": [
        "from google.cloud import storage, bigquery\n",
        "import pandas as pd\n",
        "import json\n",
        "import os\n",
        "import uuid\n",
        "\n",
        "bucket_name = 'batch-images'\n",
        "\n",
        "project_id = \"big-data-lol\"\n",
        "bucket_name = \"batch-images\"\n",
        "prefix = 'item/14.12/'\n",
        "dataset_id = 'Bronze_LOL_Dataset'\n",
        "table_id = 'bronze_batch_img_item'\n",
        "\n",
        "storage_client = storage.Client(project=project_id)\n",
        "bigquery_client = bigquery.Client(project=project_id)\n",
        "\n",
        "bucket = storage_client.bucket(bucket_name)\n",
        "blobs = bucket.list_blobs(prefix=prefix)\n",
        "\n",
        "local_files = []\n",
        "\n",
        "for blob in blobs:\n",
        "    local_path = '/tmp/' + os.path.basename(blob.name)\n",
        "    blob.download_to_filename(local_path)\n",
        "    local_files.append(local_path)\n",
        "\n",
        "print(f\"Downloaded files: {local_files}\")\n",
        "\n",
        "rows = []\n",
        "\n",
        "for file_path in local_files:\n",
        "    with open(file_path, 'r', encoding='utf-8') as f:\n",
        "        data_json = json.load(f)\n",
        "\n",
        "    for key, value in data_json.items():\n",
        "        row = {\n",
        "            'UID': str(uuid.uuid4()),\n",
        "            'Key': key,\n",
        "            'Value': json.dumps(value),  # Convertimos el valor a una cadena JSON\n",
        "            'FileName': os.path.basename(file_path)\n",
        "        }\n",
        "        rows.append(row)\n",
        "\n",
        "# Crear un DataFrame de pandas\n",
        "df = pd.DataFrame(rows)\n",
        "\n",
        "# Definir el esquema explícitamente\n",
        "schema = [\n",
        "    bigquery.SchemaField('UID', 'STRING', mode='REQUIRED'),\n",
        "    bigquery.SchemaField('Key', 'STRING', mode='REQUIRED'),\n",
        "    bigquery.SchemaField('Value', 'STRING', mode='REQUIRED'),\n",
        "    bigquery.SchemaField('FileName', 'STRING', mode='REQUIRED')\n",
        "]\n",
        "\n",
        "# Configuración del trabajo de carga\n",
        "job_config = bigquery.LoadJobConfig(\n",
        "    write_disposition='WRITE_TRUNCATE',\n",
        "    schema=schema\n",
        ")\n",
        "\n",
        "# Cargar el DataFrame a BigQuery\n",
        "table_ref = bigquery_client.dataset(dataset_id).table(table_id)\n",
        "job = bigquery_client.load_table_from_dataframe(df, table_ref, job_config=job_config)\n",
        "\n",
        "# Esperar a que termine el trabajo\n",
        "job.result()\n",
        "\n",
        "print(f\"DataFrame cargado en BigQuery: {dataset_id}.{table_id}\")\n"
      ],
      "metadata": {
        "colab": {
          "base_uri": "https://localhost:8080/"
        },
        "id": "u56Mf3ONjqle",
        "executionInfo": {
          "status": "ok",
          "timestamp": 1718601162341,
          "user_tz": 240,
          "elapsed": 11560,
          "user": {
            "displayName": "",
            "userId": ""
          }
        },
        "outputId": "c17066c6-7216-4006-91d7-f1245ed8c52e"
      },
      "execution_count": 2,
      "outputs": [
        {
          "output_type": "stream",
          "name": "stdout",
          "text": [
            "Downloaded files: ['/tmp/Aatrox.json', '/tmp/Ahri.json', '/tmp/Akali.json', '/tmp/Akshan.json', '/tmp/Alistar.json', '/tmp/Amumu.json', '/tmp/Anivia.json', '/tmp/Annie.json', '/tmp/Aphelios.json', '/tmp/Ashe.json', '/tmp/AurelionSol.json', '/tmp/Azir.json', '/tmp/Bard.json', '/tmp/Belveth.json', '/tmp/Blitzcrank.json', '/tmp/Brand.json', '/tmp/Braum.json', '/tmp/Briar.json', '/tmp/Caitlyn.json', '/tmp/Camille.json', '/tmp/Cassiopeia.json', '/tmp/Chogath.json', '/tmp/Corki.json', '/tmp/Darius.json', '/tmp/Diana.json', '/tmp/DrMundo.json', '/tmp/Draven.json', '/tmp/Ekko.json', '/tmp/Elise.json', '/tmp/Evelynn.json', '/tmp/Ezreal.json', '/tmp/Fiddlesticks.json', '/tmp/Fiora.json', '/tmp/Fizz.json', '/tmp/Galio.json', '/tmp/Gangplank.json', '/tmp/Garen.json', '/tmp/Gnar.json', '/tmp/Gragas.json', '/tmp/Graves.json', '/tmp/Gwen.json', '/tmp/Hecarim.json', '/tmp/Heimerdinger.json', '/tmp/Hwei.json', '/tmp/Illaoi.json', '/tmp/Irelia.json', '/tmp/Ivern.json', '/tmp/Janna.json', '/tmp/JarvanIV.json', '/tmp/Jax.json', '/tmp/Jayce.json', '/tmp/Jhin.json', '/tmp/Jinx.json', '/tmp/KSante.json', '/tmp/Kaisa.json', '/tmp/Kalista.json', '/tmp/Karma.json', '/tmp/Karthus.json', '/tmp/Kassadin.json', '/tmp/Katarina.json', '/tmp/Kayle.json', '/tmp/Kayn.json', '/tmp/Kennen.json', '/tmp/Khazix.json', '/tmp/Kindred.json', '/tmp/Kled.json', '/tmp/KogMaw.json', '/tmp/Leblanc.json', '/tmp/LeeSin.json', '/tmp/Leona.json', '/tmp/Lillia.json', '/tmp/Lissandra.json', '/tmp/Lucian.json', '/tmp/Lulu.json', '/tmp/Lux.json', '/tmp/Malphite.json', '/tmp/Malzahar.json', '/tmp/Maokai.json', '/tmp/MasterYi.json', '/tmp/Milio.json', '/tmp/MissFortune.json', '/tmp/MonkeyKing.json', '/tmp/Mordekaiser.json', '/tmp/Morgana.json', '/tmp/Naafiri.json', '/tmp/Nami.json', '/tmp/Nasus.json', '/tmp/Nautilus.json', '/tmp/Neeko.json', '/tmp/Nidalee.json', '/tmp/Nilah.json', '/tmp/Nocturne.json', '/tmp/Nunu.json', '/tmp/Olaf.json', '/tmp/Orianna.json', '/tmp/Ornn.json', '/tmp/Pantheon.json', '/tmp/Poppy.json', '/tmp/Pyke.json', '/tmp/Qiyana.json', '/tmp/Quinn.json', '/tmp/Rakan.json', '/tmp/Rammus.json', '/tmp/RekSai.json', '/tmp/Rell.json', '/tmp/Renata.json', '/tmp/Renekton.json', '/tmp/Rengar.json', '/tmp/Riven.json', '/tmp/Rumble.json', '/tmp/Ryze.json', '/tmp/Samira.json', '/tmp/Sejuani.json', '/tmp/Senna.json', '/tmp/Seraphine.json', '/tmp/Sett.json', '/tmp/Shaco.json', '/tmp/Shen.json', '/tmp/Shyvana.json', '/tmp/Singed.json', '/tmp/Sion.json', '/tmp/Sivir.json', '/tmp/Skarner.json', '/tmp/Smolder.json', '/tmp/Sona.json', '/tmp/Soraka.json', '/tmp/Swain.json', '/tmp/Sylas.json', '/tmp/Syndra.json', '/tmp/TahmKench.json', '/tmp/Taliyah.json', '/tmp/Talon.json', '/tmp/Taric.json', '/tmp/Teemo.json', '/tmp/Thresh.json', '/tmp/Tristana.json', '/tmp/Trundle.json', '/tmp/Tryndamere.json', '/tmp/TwistedFate.json', '/tmp/Twitch.json', '/tmp/Udyr.json', '/tmp/Urgot.json', '/tmp/Varus.json', '/tmp/Vayne.json', '/tmp/Veigar.json', '/tmp/Velkoz.json', '/tmp/Vex.json', '/tmp/Vi.json', '/tmp/Viego.json', '/tmp/Viktor.json', '/tmp/Vladimir.json', '/tmp/Volibear.json', '/tmp/Warwick.json', '/tmp/Xayah.json', '/tmp/Xerath.json', '/tmp/XinZhao.json', '/tmp/Yasuo.json', '/tmp/Yone.json', '/tmp/Yorick.json', '/tmp/Yuumi.json', '/tmp/Zac.json', '/tmp/Zed.json', '/tmp/Zeri.json', '/tmp/Ziggs.json', '/tmp/Zilean.json', '/tmp/Zoe.json', '/tmp/Zyra.json']\n",
            "DataFrame cargado en BigQuery: Bronze_LOL_Dataset.bronze_batch_img_champ\n"
          ]
        }
      ]
    }
  ]
}