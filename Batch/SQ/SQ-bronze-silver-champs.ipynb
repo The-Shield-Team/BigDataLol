{
  "nbformat": 4,
  "nbformat_minor": 0,
  "metadata": {
    "colab": {
      "cell_execution_strategy": "setup",
      "provenance": [],
      "name": "SQ-bronze-silver-champs"
    },
    "kernelspec": {
      "name": "python3",
      "display_name": "Python 3"
    },
    "language_info": {
      "name": "python"
    }
  },
  "cells": [
    {
      "cell_type": "markdown",
      "source": [
        "# Schudeler Query from Bronce to Silver for Champions"
      ],
      "metadata": {
        "id": "ZIFMhLSak8dQ"
      }
    },
    {
      "cell_type": "markdown",
      "source": [
        "Library"
      ],
      "metadata": {
        "id": "Mw9-5mUbqbZN"
      }
    },
    {
      "cell_type": "code",
      "source": [
        "import pandas as pd\n",
        "from pandas_gbq import read_gbq, to_gbq\n",
        "import json"
      ],
      "metadata": {
        "id": "rB4OmtnFqiPj"
      },
      "execution_count": null,
      "outputs": []
    },
    {
      "cell_type": "markdown",
      "source": [
        "Project Info"
      ],
      "metadata": {
        "id": "eTKdZMPMqV1U"
      }
    },
    {
      "cell_type": "code",
      "source": [
        "project_id = \"big-data-lol\"\n",
        "dataset_id_from = \"Bronze_LOL_Dataset\"\n",
        "dataset_id_to = \"Silver_LOL_Dataset\"\n",
        "table_id_from = \"bronze_batch_img_champ\"\n",
        "table_id_to = \"silver_batch_champion\""
      ],
      "metadata": {
        "id": "LzGM42auqVLN"
      },
      "execution_count": null,
      "outputs": []
    },
    {
      "cell_type": "markdown",
      "source": [
        "Lol current patch"
      ],
      "metadata": {
        "id": "VjNF3ZLblS-W"
      }
    },
    {
      "cell_type": "code",
      "source": [
        "current_patch = \"14.12\""
      ],
      "metadata": {
        "id": "2H3BxOcikN30"
      },
      "execution_count": null,
      "outputs": []
    },
    {
      "cell_type": "markdown",
      "source": [
        "Query"
      ],
      "metadata": {
        "id": "Gbf4Z62elZiJ"
      }
    },
    {
      "cell_type": "code",
      "source": [
        "query = f'''\n",
        "SELECT DATA\n",
        "FROM {project_id}.{dataset_id_from}.{table_id_from}\n",
        "WHERE TIMESTAMP_TRUNC(_PARTITIONTIME, DAY) = TIMESTAMP(\"2024-06-16\")\n",
        "AND Patch = \"{current_patch}\"\n",
        "'''"
      ],
      "metadata": {
        "id": "uWoBSb2rlcZ3"
      },
      "execution_count": null,
      "outputs": []
    },
    {
      "cell_type": "markdown",
      "source": [
        "Query in BigQuery Dataset"
      ],
      "metadata": {
        "id": "FuP7_3DUlzyW"
      }
    },
    {
      "cell_type": "code",
      "source": [
        "df = read_gbq(query, project_id=project_id, dialect='standard')"
      ],
      "metadata": {
        "id": "itFJzBFNr72l",
        "colab": {
          "base_uri": "https://localhost:8080/"
        },
        "executionInfo": {
          "status": "ok",
          "timestamp": 1718585153417,
          "user_tz": 240,
          "elapsed": 2634,
          "user": {
            "displayName": "",
            "userId": ""
          }
        },
        "outputId": "5aeef554-bb22-400e-a650-d757c5f9d5a0"
      },
      "execution_count": null,
      "outputs": [
        {
          "output_type": "stream",
          "name": "stdout",
          "text": [
            "Downloading: 100%|\u001b[32m██████████\u001b[0m|\n"
          ]
        }
      ]
    },
    {
      "cell_type": "code",
      "source": [
        "def json_to_dataframe(json_str):\n",
        "    # Cargar el JSON en un diccionario\n",
        "    json_data = json.loads(json_str)\n",
        "\n",
        "    # Crear un DataFrame a partir del diccionario\n",
        "    df = pd.DataFrame.from_dict([json_data])\n",
        "\n",
        "    return df\n",
        "\n"
      ],
      "metadata": {
        "id": "nJaqN6OQrYo8"
      },
      "execution_count": null,
      "outputs": []
    },
    {
      "cell_type": "code",
      "source": [
        "df_processed = pd.concat([json_to_dataframe(row) for row in df['DATA']], ignore_index=True)\n"
      ],
      "metadata": {
        "id": "5QpIy9HssCv8"
      },
      "execution_count": null,
      "outputs": []
    },
    {
      "cell_type": "markdown",
      "source": [
        "Schema create"
      ],
      "metadata": {
        "id": "NofxZz2s6CFV"
      }
    },
    {
      "cell_type": "code",
      "source": [
        "from google.cloud import bigquery\n",
        "schema = [\n",
        "\n",
        "  bigquery.SchemaField('id', 'STRING', 'REQUIRED'),\n",
        "  bigquery.SchemaField('key', 'INTEGER', 'REQUIRED'),\n",
        "  bigquery.SchemaField('name', 'STRING', 'REQUIRED'),\n",
        "  bigquery.SchemaField('title', 'STRING', 'NULLABLE'),\n",
        "  bigquery.SchemaField('image', 'STRING', 'REQUIRED'),\n",
        "  bigquery.SchemaField('skins', 'STRING', 'REQUIRED'),\n",
        "  bigquery.SchemaField('lore', 'STRING', 'REQUIRED'),\n",
        "  bigquery.SchemaField('blurb', 'STRING', 'REQUIRED'),\n",
        "  bigquery.SchemaField('allytips', 'STRING', 'REQUIRED'),\n",
        "  bigquery.SchemaField('enemytips', 'STRING', 'REQUIRED'),\n",
        "  bigquery.SchemaField('tags', 'STRING', 'REQUIRED'),\n",
        "  bigquery.SchemaField('partype', 'STRING', 'NULLABLE'),\n",
        "  bigquery.SchemaField('info', 'STRING', 'REQUIRED'),\n",
        "  bigquery.SchemaField('stats', 'STRING', 'REQUIRED'),\n",
        "  bigquery.SchemaField('spells', 'STRING', 'REQUIRED'),\n",
        "  bigquery.SchemaField('passive', 'STRING', 'REQUIRED'),\n",
        "  bigquery.SchemaField('recommended', 'STRING', 'REQUIRED')\n",
        "]\n",
        "\n"
      ],
      "metadata": {
        "id": "quqVRTbN6KDm"
      },
      "execution_count": null,
      "outputs": []
    },
    {
      "cell_type": "code",
      "source": [
        "client = bigquery.Client(project=project_id)\n",
        "\n",
        "validated_path = '/tmp/validated_' + \"champs_to_silver.csv\"\n",
        "# se transforma el df a csv\n",
        "df_processed.to_csv(validated_path, index=False)\n",
        "\n",
        "print(validated_path)\n",
        "# Cargar los datos validados en BigQuery\n",
        "dataset_ref = client.dataset(dataset_id_to)\n",
        "table_ref = dataset_ref.table(table_id_to)\n",
        "\n",
        "#configuracion del job\n",
        "job_config = bigquery.LoadJobConfig()\n",
        "\n",
        "job_config.source_format = bigquery.SourceFormat.CSV\n",
        "job_config.skip_leading_rows = 1\n",
        "job_config.schema = schema\n",
        "job_config.write_disposition = bigquery.WriteDisposition.WRITE_TRUNCATE\n",
        "\n",
        "\n",
        "with open(validated_path, \"rb\") as source_file:\n",
        "    job = client.load_table_from_file(source_file, table_ref, job_config=job_config)\n",
        "\n",
        "job.result()\n"
      ],
      "metadata": {
        "colab": {
          "base_uri": "https://localhost:8080/"
        },
        "id": "jdFPCIwfp8Yz",
        "executionInfo": {
          "status": "ok",
          "timestamp": 1718585216311,
          "user_tz": 240,
          "elapsed": 2984,
          "user": {
            "displayName": "",
            "userId": ""
          }
        },
        "outputId": "a18523f5-9d1e-4d2c-983a-2b133d55cecf"
      },
      "execution_count": null,
      "outputs": [
        {
          "output_type": "stream",
          "name": "stdout",
          "text": [
            "/tmp/validated_champs_to_silver.csv\n"
          ]
        },
        {
          "output_type": "execute_result",
          "data": {
            "text/plain": [
              "LoadJob<project=big-data-lol, location=US, id=ce39609d-2138-41d8-bf58-8ac5846aae69>"
            ]
          },
          "metadata": {},
          "execution_count": 18
        }
      ]
    },
    {
      "cell_type": "markdown",
      "source": [
        "Job Configuration"
      ],
      "metadata": {
        "id": "WzCU7u0g-tOX"
      }
    }
  ]
}