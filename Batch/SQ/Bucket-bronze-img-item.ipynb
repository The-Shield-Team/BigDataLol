{
  "nbformat": 4,
  "nbformat_minor": 0,
  "metadata": {
    "colab": {
      "cell_execution_strategy": "setup",
      "provenance": []
    },
    "kernelspec": {
      "name": "python3",
      "display_name": "Python 3"
    },
    "language_info": {
      "name": "python"
    }
  },
  "cells": [
    {
      "cell_type": "markdown",
      "source": [
        "Champion bucket to Bronze"
      ],
      "metadata": {
        "id": "gmKEnHPMjiM8"
      }
    },
    {
      "cell_type": "code",
      "source": [
        "from google.cloud import storage, bigquery\n",
        "import pandas as pd\n",
        "import json\n",
        "import os\n",
        "import uuid\n",
        "\n",
        "bucket_name = 'batch-images'\n",
        "\n",
        "project_id = \"big-data-lol\"\n",
        "bucket_name = \"batch-images\"\n",
        "prefix = 'item/14.12/'\n",
        "dataset_id = 'Bronze_LOL_Dataset'\n",
        "table_id = 'bronze_batch_img_item'\n",
        "\n",
        "storage_client = storage.Client(project=project_id)\n",
        "bigquery_client = bigquery.Client(project=project_id)\n",
        "\n",
        "bucket = storage_client.bucket(bucket_name)\n",
        "blobs = bucket.list_blobs(prefix=prefix)\n",
        "\n",
        "local_files = []\n",
        "\n",
        "for blob in blobs:\n",
        "    local_path = '/tmp/' + os.path.basename(blob.name)\n",
        "    blob.download_to_filename(local_path)\n",
        "    local_files.append(local_path)\n",
        "\n",
        "print(f\"Downloaded files: {local_files}\")\n",
        "\n",
        "rows = []\n",
        "\n",
        "for file_path in local_files:\n",
        "    with open(file_path, 'r', encoding='utf-8') as f:\n",
        "        data_json = json.load(f)\n",
        "\n",
        "    for key, value in data_json.items():\n",
        "        row = {\n",
        "            'UID': str(uuid.uuid4()),\n",
        "            'Key': key,\n",
        "            'Value': json.dumps(value),  # Convertimos el valor a una cadena JSON\n",
        "            'FileName': os.path.basename(file_path)\n",
        "        }\n",
        "        rows.append(row)\n",
        "\n",
        "# Crear un DataFrame de pandas\n",
        "df = pd.DataFrame(rows)\n",
        "\n",
        "# Definir el esquema explícitamente\n",
        "schema = [\n",
        "    bigquery.SchemaField('UID', 'STRING', mode='REQUIRED'),\n",
        "    bigquery.SchemaField('Key', 'STRING', mode='REQUIRED'),\n",
        "    bigquery.SchemaField('Value', 'STRING', mode='REQUIRED'),\n",
        "    bigquery.SchemaField('FileName', 'STRING', mode='REQUIRED')\n",
        "]\n",
        "\n",
        "# Configuración del trabajo de carga\n",
        "job_config = bigquery.LoadJobConfig(\n",
        "    write_disposition='WRITE_TRUNCATE',\n",
        "    schema=schema\n",
        ")\n",
        "\n",
        "# Cargar el DataFrame a BigQuery\n",
        "table_ref = bigquery_client.dataset(dataset_id).table(table_id)\n",
        "job = bigquery_client.load_table_from_dataframe(df, table_ref, job_config=job_config)\n",
        "\n",
        "# Esperar a que termine el trabajo\n",
        "job.result()\n",
        "\n",
        "print(f\"DataFrame cargado en BigQuery: {dataset_id}.{table_id}\")\n"
      ],
      "metadata": {
        "colab": {
          "base_uri": "https://localhost:8080/"
        },
        "id": "u56Mf3ONjqle",
        "executionInfo": {
          "status": "ok",
          "timestamp": 1718601395733,
          "user_tz": 240,
          "elapsed": 39442,
          "user": {
            "displayName": "",
            "userId": ""
          }
        },
        "outputId": "aa08ef84-3c09-4f59-ae79-b1009091eb39"
      },
      "execution_count": 3,
      "outputs": [
        {
          "output_type": "stream",
          "name": "stdout",
          "text": [
            "Downloaded files: ['/tmp/1001.json', '/tmp/1004.json', '/tmp/1006.json', '/tmp/1011.json', '/tmp/1018.json', '/tmp/1026.json', '/tmp/1027.json', '/tmp/1028.json', '/tmp/1029.json', '/tmp/1031.json', '/tmp/1033.json', '/tmp/1035.json', '/tmp/1036.json', '/tmp/1037.json', '/tmp/1038.json', '/tmp/1039.json', '/tmp/1040.json', '/tmp/1042.json', '/tmp/1043.json', '/tmp/1052.json', '/tmp/1053.json', '/tmp/1054.json', '/tmp/1055.json', '/tmp/1056.json', '/tmp/1057.json', '/tmp/1058.json', '/tmp/1082.json', '/tmp/1083.json', '/tmp/1101.json', '/tmp/1102.json', '/tmp/1103.json', '/tmp/1104.json', '/tmp/126697.json', '/tmp/127008.json', '/tmp/1500.json', '/tmp/1501.json', '/tmp/1502.json', '/tmp/1503.json', '/tmp/1504.json', '/tmp/1506.json', '/tmp/1507.json', '/tmp/1508.json', '/tmp/1509.json', '/tmp/1510.json', '/tmp/1511.json', '/tmp/1512.json', '/tmp/1515.json', '/tmp/1516.json', '/tmp/1517.json', '/tmp/1518.json', '/tmp/1519.json', '/tmp/1520.json', '/tmp/1521.json', '/tmp/1522.json', '/tmp/2003.json', '/tmp/2010.json', '/tmp/2015.json', '/tmp/2019.json', '/tmp/2020.json', '/tmp/2021.json', '/tmp/2022.json', '/tmp/2031.json', '/tmp/2033.json', '/tmp/2049.json', '/tmp/2050.json', '/tmp/2051.json', '/tmp/2052.json', '/tmp/2055.json', '/tmp/2056.json', '/tmp/2065.json', '/tmp/2138.json', '/tmp/2139.json', '/tmp/2140.json', '/tmp/2141.json', '/tmp/2142.json', '/tmp/2143.json', '/tmp/2144.json', '/tmp/2145.json', '/tmp/2150.json', '/tmp/2151.json', '/tmp/2152.json', '/tmp/220000.json', '/tmp/220001.json', '/tmp/220002.json', '/tmp/220003.json', '/tmp/220004.json', '/tmp/220005.json', '/tmp/220006.json', '/tmp/220007.json', '/tmp/221011.json', '/tmp/221026.json', '/tmp/221031.json', '/tmp/221038.json', '/tmp/221043.json', '/tmp/221053.json', '/tmp/221057.json', '/tmp/221058.json', '/tmp/222022.json', '/tmp/222051.json', '/tmp/222065.json', '/tmp/222141.json', '/tmp/222502.json', '/tmp/222503.json', '/tmp/222504.json', '/tmp/223001.json', '/tmp/223002.json', '/tmp/223003.json', '/tmp/223004.json', '/tmp/223005.json', '/tmp/223006.json', '/tmp/223009.json', '/tmp/223011.json', '/tmp/223020.json', '/tmp/223026.json', '/tmp/223031.json', '/tmp/223032.json', '/tmp/223033.json', '/tmp/223036.json', '/tmp/223039.json', '/tmp/223040.json', '/tmp/223042.json', '/tmp/223046.json', '/tmp/223047.json', '/tmp/223050.json', '/tmp/223053.json', '/tmp/223057.json', '/tmp/223065.json', '/tmp/223067.json', '/tmp/223068.json', '/tmp/223071.json', '/tmp/223072.json', '/tmp/223073.json', '/tmp/223074.json', '/tmp/223075.json', '/tmp/223078.json', '/tmp/223084.json', '/tmp/223085.json', '/tmp/223087.json', '/tmp/223089.json', '/tmp/223091.json', '/tmp/223094.json', '/tmp/223095.json', '/tmp/223100.json', '/tmp/223102.json', '/tmp/223105.json', '/tmp/223107.json', '/tmp/223109.json', '/tmp/223110.json', '/tmp/223111.json', '/tmp/223112.json', '/tmp/223115.json', '/tmp/223116.json', '/tmp/223118.json', '/tmp/223119.json', '/tmp/223121.json', '/tmp/223124.json', '/tmp/223135.json', '/tmp/223137.json', '/tmp/223139.json', '/tmp/223142.json', '/tmp/223143.json', '/tmp/223146.json', '/tmp/223152.json', '/tmp/223153.json', '/tmp/223156.json', '/tmp/223157.json', '/tmp/223158.json', '/tmp/223161.json', '/tmp/223165.json', '/tmp/223172.json', '/tmp/223177.json', '/tmp/223181.json', '/tmp/223184.json', '/tmp/223185.json', '/tmp/223190.json', '/tmp/223193.json', '/tmp/223222.json', '/tmp/223302.json', '/tmp/223504.json', '/tmp/223508.json', '/tmp/223742.json', '/tmp/223748.json', '/tmp/223814.json', '/tmp/224004.json', '/tmp/224005.json', '/tmp/224401.json', '/tmp/224403.json', '/tmp/224628.json', '/tmp/224629.json', '/tmp/224633.json', '/tmp/224636.json', '/tmp/224637.json', '/tmp/224644.json', '/tmp/224645.json', '/tmp/224646.json', '/tmp/226035.json', '/tmp/226333.json', '/tmp/226609.json', '/tmp/226610.json', '/tmp/226616.json', '/tmp/226617.json', '/tmp/226620.json', '/tmp/226621.json', '/tmp/226630.json', '/tmp/226631.json', '/tmp/226632.json', '/tmp/226653.json', '/tmp/226655.json', '/tmp/226656.json', '/tmp/226657.json', '/tmp/226662.json', '/tmp/226664.json', '/tmp/226665.json', '/tmp/226667.json', '/tmp/226671.json', '/tmp/226672.json', '/tmp/226673.json', '/tmp/226675.json', '/tmp/226676.json', '/tmp/226691.json', '/tmp/226692.json', '/tmp/226693.json', '/tmp/226694.json', '/tmp/226695.json', '/tmp/226696.json', '/tmp/226697.json', '/tmp/226698.json', '/tmp/226699.json', '/tmp/226701.json', '/tmp/227001.json', '/tmp/227002.json', '/tmp/227005.json', '/tmp/227006.json', '/tmp/227009.json', '/tmp/227010.json', '/tmp/227011.json', '/tmp/227012.json', '/tmp/227013.json', '/tmp/227014.json', '/tmp/227015.json', '/tmp/227016.json', '/tmp/227017.json', '/tmp/227018.json', '/tmp/227019.json', '/tmp/227020.json', '/tmp/227021.json', '/tmp/227023.json', '/tmp/227024.json', '/tmp/227025.json', '/tmp/227026.json', '/tmp/227027.json', '/tmp/227028.json', '/tmp/227029.json', '/tmp/227030.json', '/tmp/227031.json', '/tmp/227032.json', '/tmp/227033.json', '/tmp/228001.json', '/tmp/228002.json', '/tmp/228003.json', '/tmp/228004.json', '/tmp/228005.json', '/tmp/228006.json', '/tmp/228008.json', '/tmp/228020.json', '/tmp/2403.json', '/tmp/2420.json', '/tmp/2421.json', '/tmp/2422.json', '/tmp/2501.json', '/tmp/2502.json', '/tmp/2503.json', '/tmp/2504.json', '/tmp/2508.json', '/tmp/3001.json', '/tmp/3002.json', '/tmp/3003.json', '/tmp/3004.json', '/tmp/3005.json', '/tmp/3006.json', '/tmp/3009.json', '/tmp/3010.json', '/tmp/3011.json', '/tmp/3012.json', '/tmp/3013.json', '/tmp/3020.json', '/tmp/3023.json', '/tmp/3024.json', '/tmp/3026.json', '/tmp/3031.json', '/tmp/3032.json', '/tmp/3033.json', '/tmp/3035.json', '/tmp/3036.json', '/tmp/3039.json', '/tmp/3040.json', '/tmp/3041.json', '/tmp/3042.json', '/tmp/3044.json', '/tmp/3046.json', '/tmp/3047.json', '/tmp/3050.json', '/tmp/3051.json', '/tmp/3053.json', '/tmp/3057.json', '/tmp/3065.json', '/tmp/3066.json', '/tmp/3067.json', '/tmp/3068.json', '/tmp/3070.json', '/tmp/3071.json', '/tmp/3072.json', '/tmp/3073.json', '/tmp/3074.json', '/tmp/3075.json', '/tmp/3076.json', '/tmp/3077.json', '/tmp/3078.json', '/tmp/3082.json', '/tmp/3083.json', '/tmp/3084.json', '/tmp/3085.json', '/tmp/3086.json', '/tmp/3087.json', '/tmp/3089.json', '/tmp/3091.json', '/tmp/3094.json', '/tmp/3095.json', '/tmp/3100.json', '/tmp/3102.json', '/tmp/3105.json', '/tmp/3107.json', '/tmp/3108.json', '/tmp/3109.json', '/tmp/3110.json', '/tmp/3111.json', '/tmp/3112.json', '/tmp/3113.json', '/tmp/3114.json', '/tmp/3115.json', '/tmp/3116.json', '/tmp/3117.json', '/tmp/3118.json', '/tmp/3119.json', '/tmp/3121.json', '/tmp/3123.json', '/tmp/3124.json', '/tmp/3128.json', '/tmp/3131.json', '/tmp/3133.json', '/tmp/3134.json', '/tmp/3135.json', '/tmp/3137.json', '/tmp/3139.json', '/tmp/3140.json', '/tmp/3142.json', '/tmp/3143.json', '/tmp/3144.json', '/tmp/3145.json', '/tmp/3146.json', '/tmp/3147.json', '/tmp/3152.json', '/tmp/3153.json', '/tmp/3155.json', '/tmp/3156.json', '/tmp/3157.json', '/tmp/3158.json', '/tmp/3161.json', '/tmp/3165.json', '/tmp/3172.json', '/tmp/3177.json', '/tmp/3179.json', '/tmp/3181.json', '/tmp/3184.json', '/tmp/3190.json', '/tmp/3193.json', '/tmp/3211.json', '/tmp/3222.json', '/tmp/3302.json', '/tmp/3330.json', '/tmp/3340.json', '/tmp/3348.json', '/tmp/3349.json', '/tmp/3363.json', '/tmp/3364.json', '/tmp/3400.json', '/tmp/3430.json', '/tmp/3504.json', '/tmp/3508.json', '/tmp/3513.json', '/tmp/3599.json', '/tmp/3600.json', '/tmp/3742.json', '/tmp/3748.json', '/tmp/3801.json', '/tmp/3802.json', '/tmp/3803.json', '/tmp/3814.json', '/tmp/3850.json', '/tmp/3851.json', '/tmp/3853.json', '/tmp/3854.json', '/tmp/3855.json', '/tmp/3857.json', '/tmp/3858.json', '/tmp/3859.json', '/tmp/3860.json', '/tmp/3862.json', '/tmp/3863.json', '/tmp/3864.json', '/tmp/3865.json', '/tmp/3866.json', '/tmp/3867.json', '/tmp/3869.json', '/tmp/3870.json', '/tmp/3871.json', '/tmp/3876.json', '/tmp/3877.json', '/tmp/3901.json', '/tmp/3902.json', '/tmp/3903.json', '/tmp/3916.json', '/tmp/4003.json', '/tmp/4004.json', '/tmp/4005.json', '/tmp/4010.json', '/tmp/4011.json', '/tmp/4012.json', '/tmp/4013.json', '/tmp/4014.json', '/tmp/4015.json', '/tmp/4016.json', '/tmp/4017.json', '/tmp/4401.json', '/tmp/4402.json', '/tmp/4403.json', '/tmp/443054.json', '/tmp/443055.json', '/tmp/443056.json', '/tmp/443058.json', '/tmp/443059.json', '/tmp/443060.json', '/tmp/443061.json', '/tmp/443062.json', '/tmp/443063.json', '/tmp/443064.json', '/tmp/443069.json', '/tmp/443079.json', '/tmp/443193.json', '/tmp/444636.json', '/tmp/444637.json', '/tmp/444644.json', '/tmp/446632.json', '/tmp/446656.json', '/tmp/446667.json', '/tmp/446671.json', '/tmp/446691.json', '/tmp/446693.json', '/tmp/447100.json', '/tmp/447101.json', '/tmp/447102.json', '/tmp/447103.json', '/tmp/447104.json', '/tmp/447105.json', '/tmp/447106.json', '/tmp/447107.json', '/tmp/447108.json', '/tmp/447109.json', '/tmp/447110.json', '/tmp/447111.json', '/tmp/447112.json', '/tmp/447113.json', '/tmp/4628.json', '/tmp/4629.json', '/tmp/4630.json', '/tmp/4632.json', '/tmp/4633.json', '/tmp/4635.json', '/tmp/4636.json', '/tmp/4637.json', '/tmp/4638.json', '/tmp/4641.json', '/tmp/4642.json', '/tmp/4643.json', '/tmp/4644.json', '/tmp/4645.json', '/tmp/4646.json', '/tmp/6029.json', '/tmp/6035.json', '/tmp/6333.json', '/tmp/6609.json', '/tmp/6610.json', '/tmp/6616.json', '/tmp/6617.json', '/tmp/6620.json', '/tmp/6621.json', '/tmp/6630.json', '/tmp/6631.json', '/tmp/6632.json', '/tmp/6653.json', '/tmp/6655.json', '/tmp/6656.json', '/tmp/6657.json', '/tmp/6660.json', '/tmp/6662.json', '/tmp/6664.json', '/tmp/6665.json', '/tmp/6667.json', '/tmp/6670.json', '/tmp/6671.json', '/tmp/6672.json', '/tmp/6673.json', '/tmp/6675.json', '/tmp/6676.json', '/tmp/6677.json', '/tmp/6690.json', '/tmp/6691.json', '/tmp/6692.json', '/tmp/6693.json', '/tmp/6694.json', '/tmp/6695.json', '/tmp/6696.json', '/tmp/6697.json', '/tmp/6698.json', '/tmp/6699.json', '/tmp/6700.json', '/tmp/6701.json', '/tmp/7000.json', '/tmp/7001.json', '/tmp/7002.json', '/tmp/7003.json', '/tmp/7004.json', '/tmp/7005.json', '/tmp/7006.json', '/tmp/7007.json', '/tmp/7008.json', '/tmp/7009.json', '/tmp/7010.json', '/tmp/7011.json', '/tmp/7012.json', '/tmp/7013.json', '/tmp/7014.json', '/tmp/7015.json', '/tmp/7016.json', '/tmp/7017.json', '/tmp/7018.json', '/tmp/7019.json', '/tmp/7020.json', '/tmp/7021.json', '/tmp/7022.json', '/tmp/7023.json', '/tmp/7024.json', '/tmp/7025.json', '/tmp/7026.json', '/tmp/7027.json', '/tmp/7028.json', '/tmp/7029.json', '/tmp/7030.json', '/tmp/7031.json', '/tmp/7032.json', '/tmp/7033.json', '/tmp/7034.json', '/tmp/7035.json', '/tmp/7036.json', '/tmp/7037.json', '/tmp/7038.json', '/tmp/7039.json', '/tmp/7040.json', '/tmp/7041.json', '/tmp/7042.json', '/tmp/7050.json', '/tmp/8001.json', '/tmp/8020.json']\n",
            "DataFrame cargado en BigQuery: Bronze_LOL_Dataset.bronze_batch_img_item\n"
          ]
        }
      ]
    }
  ]
}