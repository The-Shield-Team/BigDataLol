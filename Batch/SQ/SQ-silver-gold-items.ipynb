{
  "nbformat": 4,
  "nbformat_minor": 0,
  "metadata": {
    "colab": {
      "cell_execution_strategy": "setup",
      "provenance": [],
      "name": "SQ-silver-gold-items"
    },
    "kernelspec": {
      "name": "python3",
      "display_name": "Python 3"
    },
    "language_info": {
      "name": "python"
    }
  },
  "cells": [
    {
      "cell_type": "markdown",
      "source": [
        "# Schudeler Query from Silver to Gold for Items"
      ],
      "metadata": {
        "id": "ZIFMhLSak8dQ"
      }
    },
    {
      "cell_type": "markdown",
      "source": [
        "Library"
      ],
      "metadata": {
        "id": "Mw9-5mUbqbZN"
      }
    },
    {
      "cell_type": "code",
      "source": [
        "import pandas as pd\n",
        "from pandas_gbq import read_gbq, to_gbq\n",
        "import json"
      ],
      "metadata": {
        "id": "rB4OmtnFqiPj",
        "executionInfo": {
          "status": "ok",
          "timestamp": 1718609696530,
          "user_tz": 240,
          "elapsed": 5,
          "user": {
            "displayName": "",
            "userId": ""
          }
        }
      },
      "execution_count": 1,
      "outputs": []
    },
    {
      "cell_type": "markdown",
      "source": [
        "Project Info"
      ],
      "metadata": {
        "id": "eTKdZMPMqV1U"
      }
    },
    {
      "cell_type": "code",
      "source": [
        "project_id = \"big-data-lol\"\n",
        "dataset_id_from = \"Silver_LOL_Dataset\"\n",
        "dataset_id_to = \"Gold_LOL_Dataset\"\n",
        "table_id_from_data = \"silver_batch_items\"\n",
        "table_id_from_image = \"silver_batch_img_item\"\n",
        "table_id_to = \"gold_batch_item\""
      ],
      "metadata": {
        "id": "LzGM42auqVLN",
        "executionInfo": {
          "status": "ok",
          "timestamp": 1718609696530,
          "user_tz": 240,
          "elapsed": 4,
          "user": {
            "displayName": "",
            "userId": ""
          }
        }
      },
      "execution_count": 2,
      "outputs": []
    },
    {
      "cell_type": "markdown",
      "source": [
        "Lol current patch"
      ],
      "metadata": {
        "id": "VjNF3ZLblS-W"
      }
    },
    {
      "cell_type": "code",
      "source": [
        "current_patch = \"14.12\""
      ],
      "metadata": {
        "id": "2H3BxOcikN30",
        "executionInfo": {
          "status": "ok",
          "timestamp": 1718609696530,
          "user_tz": 240,
          "elapsed": 4,
          "user": {
            "displayName": "",
            "userId": ""
          }
        }
      },
      "execution_count": 3,
      "outputs": []
    },
    {
      "cell_type": "markdown",
      "source": [
        "Query"
      ],
      "metadata": {
        "id": "Gbf4Z62elZiJ"
      }
    },
    {
      "cell_type": "code",
      "source": [
        "query = f'''\n",
        "SELECT REGEXP_EXTRACT(JSON_EXTRACT_SCALAR(data.image, '$.full'), r'(\\d+)') AS number , img.image , data.name\n",
        "FROM {project_id}.{dataset_id_from}.{table_id_from_data} as data join\n",
        "{project_id}.{dataset_id_from}.{table_id_from_image} as img ON\n",
        "\n",
        "REGEXP_EXTRACT(JSON_EXTRACT_SCALAR(data.image, '$.full'), r'(\\d+)') = img.key\n",
        "\n",
        "WHERE TIMESTAMP_TRUNC(data._PARTITIONTIME, DAY) = TIMESTAMP(\"2024-06-17\")\n",
        "and TIMESTAMP_TRUNC(img._PARTITIONTIME, DAY) = TIMESTAMP(\"2024-06-17\")\n",
        "'''"
      ],
      "metadata": {
        "id": "uWoBSb2rlcZ3",
        "executionInfo": {
          "status": "ok",
          "timestamp": 1718609701665,
          "user_tz": 240,
          "elapsed": 3,
          "user": {
            "displayName": "",
            "userId": ""
          }
        }
      },
      "execution_count": 5,
      "outputs": []
    },
    {
      "cell_type": "markdown",
      "source": [
        "Query in BigQuery Dataset"
      ],
      "metadata": {
        "id": "FuP7_3DUlzyW"
      }
    },
    {
      "cell_type": "code",
      "source": [
        "df = read_gbq(query, project_id=project_id, dialect='standard')"
      ],
      "metadata": {
        "id": "itFJzBFNr72l",
        "colab": {
          "base_uri": "https://localhost:8080/"
        },
        "executionInfo": {
          "status": "ok",
          "timestamp": 1718609708985,
          "user_tz": 240,
          "elapsed": 5823,
          "user": {
            "displayName": "",
            "userId": ""
          }
        },
        "outputId": "9337e0d8-98bb-482b-bf21-232a90d4b298"
      },
      "execution_count": 6,
      "outputs": [
        {
          "output_type": "stream",
          "name": "stdout",
          "text": [
            "Downloading: 100%|\u001b[32m██████████\u001b[0m|\n"
          ]
        }
      ]
    },
    {
      "cell_type": "code",
      "source": [
        "df.head(5)"
      ],
      "metadata": {
        "colab": {
          "base_uri": "https://localhost:8080/",
          "height": 206
        },
        "id": "pKkxXlaLAeX7",
        "executionInfo": {
          "status": "ok",
          "timestamp": 1718609712679,
          "user_tz": 240,
          "elapsed": 5,
          "user": {
            "displayName": "",
            "userId": ""
          }
        },
        "outputId": "333a8039-cdf0-4b92-aa5f-fe5c3a633393"
      },
      "execution_count": 7,
      "outputs": [
        {
          "output_type": "execute_result",
          "data": {
            "text/plain": [
              "   number                                              image  \\\n",
              "0  223031  \"iVBORw0KGgoAAAANSUhEUgAAAEAAAABACAIAAAAlC+aJA...   \n",
              "1  227031  \"iVBORw0KGgoAAAANSUhEUgAAAEAAAABACAIAAAAlC+aJA...   \n",
              "2    3031  \"iVBORw0KGgoAAAANSUhEUgAAAEAAAABACAIAAAAlC+aJA...   \n",
              "3    7031  \"iVBORw0KGgoAAAANSUhEUgAAAEAAAABACAIAAAAlC+aJA...   \n",
              "4  447101  \"iVBORw0KGgoAAAANSUhEUgAAAIAAAACACAIAAABMXPacA...   \n",
              "\n",
              "                   name  \n",
              "0     Filo del Infinito  \n",
              "1    Filo de la Finitud  \n",
              "2     Filo del Infinito  \n",
              "3    Filo de la Finitud  \n",
              "4  Espada del Apostador  "
            ],
            "text/html": [
              "\n",
              "  <div id=\"df-a181ac7d-2078-45ae-bcb2-a56c01b5342e\" class=\"colab-df-container\">\n",
              "    <div>\n",
              "<style scoped>\n",
              "    .dataframe tbody tr th:only-of-type {\n",
              "        vertical-align: middle;\n",
              "    }\n",
              "\n",
              "    .dataframe tbody tr th {\n",
              "        vertical-align: top;\n",
              "    }\n",
              "\n",
              "    .dataframe thead th {\n",
              "        text-align: right;\n",
              "    }\n",
              "</style>\n",
              "<table border=\"1\" class=\"dataframe\">\n",
              "  <thead>\n",
              "    <tr style=\"text-align: right;\">\n",
              "      <th></th>\n",
              "      <th>number</th>\n",
              "      <th>image</th>\n",
              "      <th>name</th>\n",
              "    </tr>\n",
              "  </thead>\n",
              "  <tbody>\n",
              "    <tr>\n",
              "      <th>0</th>\n",
              "      <td>223031</td>\n",
              "      <td>\"iVBORw0KGgoAAAANSUhEUgAAAEAAAABACAIAAAAlC+aJA...</td>\n",
              "      <td>Filo del Infinito</td>\n",
              "    </tr>\n",
              "    <tr>\n",
              "      <th>1</th>\n",
              "      <td>227031</td>\n",
              "      <td>\"iVBORw0KGgoAAAANSUhEUgAAAEAAAABACAIAAAAlC+aJA...</td>\n",
              "      <td>Filo de la Finitud</td>\n",
              "    </tr>\n",
              "    <tr>\n",
              "      <th>2</th>\n",
              "      <td>3031</td>\n",
              "      <td>\"iVBORw0KGgoAAAANSUhEUgAAAEAAAABACAIAAAAlC+aJA...</td>\n",
              "      <td>Filo del Infinito</td>\n",
              "    </tr>\n",
              "    <tr>\n",
              "      <th>3</th>\n",
              "      <td>7031</td>\n",
              "      <td>\"iVBORw0KGgoAAAANSUhEUgAAAEAAAABACAIAAAAlC+aJA...</td>\n",
              "      <td>Filo de la Finitud</td>\n",
              "    </tr>\n",
              "    <tr>\n",
              "      <th>4</th>\n",
              "      <td>447101</td>\n",
              "      <td>\"iVBORw0KGgoAAAANSUhEUgAAAIAAAACACAIAAABMXPacA...</td>\n",
              "      <td>Espada del Apostador</td>\n",
              "    </tr>\n",
              "  </tbody>\n",
              "</table>\n",
              "</div>\n",
              "    <div class=\"colab-df-buttons\">\n",
              "\n",
              "  <div class=\"colab-df-container\">\n",
              "    <button class=\"colab-df-convert\" onclick=\"convertToInteractive('df-a181ac7d-2078-45ae-bcb2-a56c01b5342e')\"\n",
              "            title=\"Convert this dataframe to an interactive table.\"\n",
              "            style=\"display:none;\">\n",
              "\n",
              "  <svg xmlns=\"http://www.w3.org/2000/svg\" height=\"24px\" viewBox=\"0 -960 960 960\">\n",
              "    <path d=\"M120-120v-720h720v720H120Zm60-500h600v-160H180v160Zm220 220h160v-160H400v160Zm0 220h160v-160H400v160ZM180-400h160v-160H180v160Zm440 0h160v-160H620v160ZM180-180h160v-160H180v160Zm440 0h160v-160H620v160Z\"/>\n",
              "  </svg>\n",
              "    </button>\n",
              "\n",
              "  <style>\n",
              "    .colab-df-container {\n",
              "      display:flex;\n",
              "      gap: 12px;\n",
              "    }\n",
              "\n",
              "    .colab-df-convert {\n",
              "      background-color: #E8F0FE;\n",
              "      border: none;\n",
              "      border-radius: 50%;\n",
              "      cursor: pointer;\n",
              "      display: none;\n",
              "      fill: #1967D2;\n",
              "      height: 32px;\n",
              "      padding: 0 0 0 0;\n",
              "      width: 32px;\n",
              "    }\n",
              "\n",
              "    .colab-df-convert:hover {\n",
              "      background-color: #E2EBFA;\n",
              "      box-shadow: 0px 1px 2px rgba(60, 64, 67, 0.3), 0px 1px 3px 1px rgba(60, 64, 67, 0.15);\n",
              "      fill: #174EA6;\n",
              "    }\n",
              "\n",
              "    .colab-df-buttons div {\n",
              "      margin-bottom: 4px;\n",
              "    }\n",
              "\n",
              "    [theme=dark] .colab-df-convert {\n",
              "      background-color: #3B4455;\n",
              "      fill: #D2E3FC;\n",
              "    }\n",
              "\n",
              "    [theme=dark] .colab-df-convert:hover {\n",
              "      background-color: #434B5C;\n",
              "      box-shadow: 0px 1px 3px 1px rgba(0, 0, 0, 0.15);\n",
              "      filter: drop-shadow(0px 1px 2px rgba(0, 0, 0, 0.3));\n",
              "      fill: #FFFFFF;\n",
              "    }\n",
              "  </style>\n",
              "\n",
              "    <script>\n",
              "      const buttonEl =\n",
              "        document.querySelector('#df-a181ac7d-2078-45ae-bcb2-a56c01b5342e button.colab-df-convert');\n",
              "      buttonEl.style.display =\n",
              "        google.colab.kernel.accessAllowed ? 'block' : 'none';\n",
              "\n",
              "      async function convertToInteractive(key) {\n",
              "        const element = document.querySelector('#df-a181ac7d-2078-45ae-bcb2-a56c01b5342e');\n",
              "        const dataTable =\n",
              "          await google.colab.kernel.invokeFunction('convertToInteractive',\n",
              "                                                    [key], {});\n",
              "        if (!dataTable) return;\n",
              "\n",
              "        const docLinkHtml = 'Like what you see? Visit the ' +\n",
              "          '<a target=\"_blank\" href=https://colab.research.google.com/notebooks/data_table.ipynb>data table notebook</a>'\n",
              "          + ' to learn more about interactive tables.';\n",
              "        element.innerHTML = '';\n",
              "        dataTable['output_type'] = 'display_data';\n",
              "        await google.colab.output.renderOutput(dataTable, element);\n",
              "        const docLink = document.createElement('div');\n",
              "        docLink.innerHTML = docLinkHtml;\n",
              "        element.appendChild(docLink);\n",
              "      }\n",
              "    </script>\n",
              "  </div>\n",
              "\n",
              "\n",
              "<div id=\"df-9c0a3c60-f00d-40fa-8e67-b0e53f37c265\">\n",
              "  <button class=\"colab-df-quickchart\" onclick=\"quickchart('df-9c0a3c60-f00d-40fa-8e67-b0e53f37c265')\"\n",
              "            title=\"Suggest charts\"\n",
              "            style=\"display:none;\">\n",
              "\n",
              "<svg xmlns=\"http://www.w3.org/2000/svg\" height=\"24px\"viewBox=\"0 0 24 24\"\n",
              "     width=\"24px\">\n",
              "    <g>\n",
              "        <path d=\"M19 3H5c-1.1 0-2 .9-2 2v14c0 1.1.9 2 2 2h14c1.1 0 2-.9 2-2V5c0-1.1-.9-2-2-2zM9 17H7v-7h2v7zm4 0h-2V7h2v10zm4 0h-2v-4h2v4z\"/>\n",
              "    </g>\n",
              "</svg>\n",
              "  </button>\n",
              "\n",
              "<style>\n",
              "  .colab-df-quickchart {\n",
              "      --bg-color: #E8F0FE;\n",
              "      --fill-color: #1967D2;\n",
              "      --hover-bg-color: #E2EBFA;\n",
              "      --hover-fill-color: #174EA6;\n",
              "      --disabled-fill-color: #AAA;\n",
              "      --disabled-bg-color: #DDD;\n",
              "  }\n",
              "\n",
              "  [theme=dark] .colab-df-quickchart {\n",
              "      --bg-color: #3B4455;\n",
              "      --fill-color: #D2E3FC;\n",
              "      --hover-bg-color: #434B5C;\n",
              "      --hover-fill-color: #FFFFFF;\n",
              "      --disabled-bg-color: #3B4455;\n",
              "      --disabled-fill-color: #666;\n",
              "  }\n",
              "\n",
              "  .colab-df-quickchart {\n",
              "    background-color: var(--bg-color);\n",
              "    border: none;\n",
              "    border-radius: 50%;\n",
              "    cursor: pointer;\n",
              "    display: none;\n",
              "    fill: var(--fill-color);\n",
              "    height: 32px;\n",
              "    padding: 0;\n",
              "    width: 32px;\n",
              "  }\n",
              "\n",
              "  .colab-df-quickchart:hover {\n",
              "    background-color: var(--hover-bg-color);\n",
              "    box-shadow: 0 1px 2px rgba(60, 64, 67, 0.3), 0 1px 3px 1px rgba(60, 64, 67, 0.15);\n",
              "    fill: var(--button-hover-fill-color);\n",
              "  }\n",
              "\n",
              "  .colab-df-quickchart-complete:disabled,\n",
              "  .colab-df-quickchart-complete:disabled:hover {\n",
              "    background-color: var(--disabled-bg-color);\n",
              "    fill: var(--disabled-fill-color);\n",
              "    box-shadow: none;\n",
              "  }\n",
              "\n",
              "  .colab-df-spinner {\n",
              "    border: 2px solid var(--fill-color);\n",
              "    border-color: transparent;\n",
              "    border-bottom-color: var(--fill-color);\n",
              "    animation:\n",
              "      spin 1s steps(1) infinite;\n",
              "  }\n",
              "\n",
              "  @keyframes spin {\n",
              "    0% {\n",
              "      border-color: transparent;\n",
              "      border-bottom-color: var(--fill-color);\n",
              "      border-left-color: var(--fill-color);\n",
              "    }\n",
              "    20% {\n",
              "      border-color: transparent;\n",
              "      border-left-color: var(--fill-color);\n",
              "      border-top-color: var(--fill-color);\n",
              "    }\n",
              "    30% {\n",
              "      border-color: transparent;\n",
              "      border-left-color: var(--fill-color);\n",
              "      border-top-color: var(--fill-color);\n",
              "      border-right-color: var(--fill-color);\n",
              "    }\n",
              "    40% {\n",
              "      border-color: transparent;\n",
              "      border-right-color: var(--fill-color);\n",
              "      border-top-color: var(--fill-color);\n",
              "    }\n",
              "    60% {\n",
              "      border-color: transparent;\n",
              "      border-right-color: var(--fill-color);\n",
              "    }\n",
              "    80% {\n",
              "      border-color: transparent;\n",
              "      border-right-color: var(--fill-color);\n",
              "      border-bottom-color: var(--fill-color);\n",
              "    }\n",
              "    90% {\n",
              "      border-color: transparent;\n",
              "      border-bottom-color: var(--fill-color);\n",
              "    }\n",
              "  }\n",
              "</style>\n",
              "\n",
              "  <script>\n",
              "    async function quickchart(key) {\n",
              "      const quickchartButtonEl =\n",
              "        document.querySelector('#' + key + ' button');\n",
              "      quickchartButtonEl.disabled = true;  // To prevent multiple clicks.\n",
              "      quickchartButtonEl.classList.add('colab-df-spinner');\n",
              "      try {\n",
              "        const charts = await google.colab.kernel.invokeFunction(\n",
              "            'suggestCharts', [key], {});\n",
              "      } catch (error) {\n",
              "        console.error('Error during call to suggestCharts:', error);\n",
              "      }\n",
              "      quickchartButtonEl.classList.remove('colab-df-spinner');\n",
              "      quickchartButtonEl.classList.add('colab-df-quickchart-complete');\n",
              "    }\n",
              "    (() => {\n",
              "      let quickchartButtonEl =\n",
              "        document.querySelector('#df-9c0a3c60-f00d-40fa-8e67-b0e53f37c265 button');\n",
              "      quickchartButtonEl.style.display =\n",
              "        google.colab.kernel.accessAllowed ? 'block' : 'none';\n",
              "    })();\n",
              "  </script>\n",
              "</div>\n",
              "    </div>\n",
              "  </div>\n"
            ]
          },
          "metadata": {},
          "execution_count": 7
        }
      ]
    },
    {
      "cell_type": "markdown",
      "source": [
        "Schema create"
      ],
      "metadata": {
        "id": "NofxZz2s6CFV"
      }
    },
    {
      "cell_type": "code",
      "source": [
        "from google.cloud import bigquery\n",
        "schema = [\n",
        "\n",
        "  bigquery.SchemaField('id', 'STRING', 'REQUIRED'),\n",
        "  bigquery.SchemaField('img', 'STRING', 'REQUIRED'),\n",
        "  bigquery.SchemaField('name', 'STRING', 'REQUIRED'),\n",
        "\n",
        "]\n",
        "\n"
      ],
      "metadata": {
        "id": "quqVRTbN6KDm",
        "executionInfo": {
          "status": "ok",
          "timestamp": 1718609712679,
          "user_tz": 240,
          "elapsed": 3,
          "user": {
            "displayName": "",
            "userId": ""
          }
        }
      },
      "execution_count": 8,
      "outputs": []
    },
    {
      "cell_type": "code",
      "source": [
        "client = bigquery.Client(project=project_id)\n",
        "\n",
        "validated_path = '/tmp/validated_' + \"champs_to_silver.csv\"\n",
        "# se transforma el df a csv\n",
        "df.to_csv(validated_path, index=False)\n",
        "\n",
        "print(validated_path)\n",
        "# Cargar los datos validados en BigQuery\n",
        "dataset_ref = client.dataset(dataset_id_to)\n",
        "table_ref = dataset_ref.table(table_id_to)\n",
        "\n",
        "#configuracion del job\n",
        "job_config = bigquery.LoadJobConfig()\n",
        "\n",
        "job_config.source_format = bigquery.SourceFormat.CSV\n",
        "job_config.skip_leading_rows = 1\n",
        "job_config.schema = schema\n",
        "job_config.write_disposition = bigquery.WriteDisposition.WRITE_TRUNCATE\n",
        "\n",
        "\n",
        "with open(validated_path, \"rb\") as source_file:\n",
        "    job = client.load_table_from_file(source_file, table_ref, job_config=job_config)\n",
        "\n",
        "job.result()\n"
      ],
      "metadata": {
        "colab": {
          "base_uri": "https://localhost:8080/"
        },
        "id": "jdFPCIwfp8Yz",
        "executionInfo": {
          "status": "ok",
          "timestamp": 1718609720264,
          "user_tz": 240,
          "elapsed": 3058,
          "user": {
            "displayName": "",
            "userId": ""
          }
        },
        "outputId": "81809c61-5b3d-4a40-c598-a682d285c595"
      },
      "execution_count": 9,
      "outputs": [
        {
          "output_type": "stream",
          "name": "stdout",
          "text": [
            "/tmp/validated_champs_to_silver.csv\n"
          ]
        },
        {
          "output_type": "execute_result",
          "data": {
            "text/plain": [
              "LoadJob<project=big-data-lol, location=US, id=46d4fc7e-018f-45a1-ba48-86ba820a6bb0>"
            ]
          },
          "metadata": {},
          "execution_count": 9
        }
      ]
    },
    {
      "cell_type": "markdown",
      "source": [
        "Job Configuration"
      ],
      "metadata": {
        "id": "WzCU7u0g-tOX"
      }
    }
  ]
}