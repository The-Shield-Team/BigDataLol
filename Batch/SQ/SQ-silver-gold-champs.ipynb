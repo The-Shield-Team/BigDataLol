{
  "nbformat": 4,
  "nbformat_minor": 0,
  "metadata": {
    "colab": {
      "cell_execution_strategy": "setup",
      "provenance": [],
      "name": "SQ-bronze-silver-champs"
    },
    "kernelspec": {
      "name": "python3",
      "display_name": "Python 3"
    },
    "language_info": {
      "name": "python"
    }
  },
  "cells": [
    {
      "cell_type": "markdown",
      "source": [
        "# Schudeler Query from Silvewr to Gold for Champions"
      ],
      "metadata": {
        "id": "ZIFMhLSak8dQ"
      }
    },
    {
      "cell_type": "markdown",
      "source": [
        "Library"
      ],
      "metadata": {
        "id": "Mw9-5mUbqbZN"
      }
    },
    {
      "cell_type": "code",
      "source": [
        "import pandas as pd\n",
        "from pandas_gbq import read_gbq, to_gbq\n",
        "import json"
      ],
      "metadata": {
        "id": "rB4OmtnFqiPj",
        "executionInfo": {
          "status": "ok",
          "timestamp": 1718604997071,
          "user_tz": 240,
          "elapsed": 867,
          "user": {
            "displayName": "",
            "userId": ""
          }
        }
      },
      "execution_count": 48,
      "outputs": []
    },
    {
      "cell_type": "markdown",
      "source": [
        "Project Info"
      ],
      "metadata": {
        "id": "eTKdZMPMqV1U"
      }
    },
    {
      "cell_type": "code",
      "source": [
        "project_id = \"big-data-lol\"\n",
        "dataset_id_from = \"Silver_LOL_Dataset\"\n",
        "dataset_id_to = \"Gold_LOL_Dataset\"\n",
        "table_id_from_data = \"silver_batch_champion\"\n",
        "table_id_from_image = \"silver_batch_img_champion\"\n",
        "table_id_to = \"gold_batch_champion\""
      ],
      "metadata": {
        "id": "LzGM42auqVLN",
        "executionInfo": {
          "status": "ok",
          "timestamp": 1718605546512,
          "user_tz": 240,
          "elapsed": 860,
          "user": {
            "displayName": "",
            "userId": ""
          }
        }
      },
      "execution_count": 67,
      "outputs": []
    },
    {
      "cell_type": "markdown",
      "source": [
        "Lol current patch"
      ],
      "metadata": {
        "id": "VjNF3ZLblS-W"
      }
    },
    {
      "cell_type": "code",
      "source": [
        "current_patch = \"14.12\""
      ],
      "metadata": {
        "id": "2H3BxOcikN30",
        "executionInfo": {
          "status": "ok",
          "timestamp": 1718605000484,
          "user_tz": 240,
          "elapsed": 970,
          "user": {
            "displayName": "",
            "userId": ""
          }
        }
      },
      "execution_count": 50,
      "outputs": []
    },
    {
      "cell_type": "markdown",
      "source": [
        "Query"
      ],
      "metadata": {
        "id": "Gbf4Z62elZiJ"
      }
    },
    {
      "cell_type": "code",
      "source": [
        "query = f'''\n",
        "SELECT data.id, data.key, img.image\n",
        "FROM {project_id}.{dataset_id_from}.{table_id_from_data} as data join\n",
        "{project_id}.{dataset_id_from}.{table_id_from_image} as img\n",
        "on data.id = img.key\n",
        "WHERE TIMESTAMP_TRUNC(data._PARTITIONTIME, DAY) = TIMESTAMP(\"2024-06-17\") and\n",
        "TIMESTAMP_TRUNC(img._PARTITIONTIME, DAY) = TIMESTAMP(\"2024-06-17\")\n",
        "'''"
      ],
      "metadata": {
        "id": "uWoBSb2rlcZ3",
        "executionInfo": {
          "status": "ok",
          "timestamp": 1718605456223,
          "user_tz": 240,
          "elapsed": 1184,
          "user": {
            "displayName": "",
            "userId": ""
          }
        }
      },
      "execution_count": 61,
      "outputs": []
    },
    {
      "cell_type": "markdown",
      "source": [
        "Query in BigQuery Dataset"
      ],
      "metadata": {
        "id": "FuP7_3DUlzyW"
      }
    },
    {
      "cell_type": "code",
      "source": [
        "df = read_gbq(query, project_id=project_id, dialect='standard')"
      ],
      "metadata": {
        "id": "itFJzBFNr72l",
        "colab": {
          "base_uri": "https://localhost:8080/"
        },
        "executionInfo": {
          "status": "ok",
          "timestamp": 1718605463689,
          "user_tz": 240,
          "elapsed": 4553,
          "user": {
            "displayName": "",
            "userId": ""
          }
        },
        "outputId": "7517b41e-f930-4462-f5f4-e30cd839fba0"
      },
      "execution_count": 62,
      "outputs": [
        {
          "output_type": "stream",
          "name": "stdout",
          "text": [
            "Downloading: 100%|\u001b[32m██████████\u001b[0m|\n"
          ]
        }
      ]
    },
    {
      "cell_type": "markdown",
      "source": [
        "Schema create"
      ],
      "metadata": {
        "id": "NofxZz2s6CFV"
      }
    },
    {
      "cell_type": "code",
      "source": [
        "from google.cloud import bigquery\n",
        "schema = [\n",
        "\n",
        "  bigquery.SchemaField('id', 'STRING', 'REQUIRED'),\n",
        "  bigquery.SchemaField('key', 'INTEGER', 'REQUIRED'),\n",
        "  bigquery.SchemaField('img', 'STRING', 'REQUIRED'),\n",
        "\n",
        "]\n",
        "\n"
      ],
      "metadata": {
        "id": "quqVRTbN6KDm",
        "executionInfo": {
          "status": "ok",
          "timestamp": 1718605514754,
          "user_tz": 240,
          "elapsed": 2,
          "user": {
            "displayName": "",
            "userId": ""
          }
        }
      },
      "execution_count": 65,
      "outputs": []
    },
    {
      "cell_type": "code",
      "source": [
        "client = bigquery.Client(project=project_id)\n",
        "\n",
        "validated_path = '/tmp/validated_' + \"champs_to_silver.csv\"\n",
        "# se transforma el df a csv\n",
        "df.to_csv(validated_path, index=False)\n",
        "\n",
        "print(validated_path)\n",
        "# Cargar los datos validados en BigQuery\n",
        "dataset_ref = client.dataset(dataset_id_to)\n",
        "table_ref = dataset_ref.table(table_id_to)\n",
        "\n",
        "#configuracion del job\n",
        "job_config = bigquery.LoadJobConfig()\n",
        "\n",
        "job_config.source_format = bigquery.SourceFormat.CSV\n",
        "job_config.skip_leading_rows = 1\n",
        "job_config.schema = schema\n",
        "job_config.write_disposition = bigquery.WriteDisposition.WRITE_TRUNCATE\n",
        "\n",
        "\n",
        "with open(validated_path, \"rb\") as source_file:\n",
        "    job = client.load_table_from_file(source_file, table_ref, job_config=job_config)\n",
        "\n",
        "job.result()\n"
      ],
      "metadata": {
        "colab": {
          "base_uri": "https://localhost:8080/"
        },
        "id": "jdFPCIwfp8Yz",
        "executionInfo": {
          "status": "ok",
          "timestamp": 1718605557088,
          "user_tz": 240,
          "elapsed": 3867,
          "user": {
            "displayName": "",
            "userId": ""
          }
        },
        "outputId": "f04de2ca-7d73-45c9-e0d8-8aa8ff651674"
      },
      "execution_count": 68,
      "outputs": [
        {
          "output_type": "stream",
          "name": "stdout",
          "text": [
            "/tmp/validated_champs_to_silver.csv\n"
          ]
        },
        {
          "output_type": "execute_result",
          "data": {
            "text/plain": [
              "LoadJob<project=big-data-lol, location=US, id=8062c2c0-c885-45c7-be28-6ee93309bedc>"
            ]
          },
          "metadata": {},
          "execution_count": 68
        }
      ]
    },
    {
      "cell_type": "markdown",
      "source": [
        "Job Configuration"
      ],
      "metadata": {
        "id": "WzCU7u0g-tOX"
      }
    }
  ]
}