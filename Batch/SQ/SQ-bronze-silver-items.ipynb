{
  "nbformat": 4,
  "nbformat_minor": 0,
  "metadata": {
    "colab": {
      "cell_execution_strategy": "setup",
      "provenance": [],
      "name": "SQ-bronze-silver-items"
    },
    "kernelspec": {
      "name": "python3",
      "display_name": "Python 3"
    },
    "language_info": {
      "name": "python"
    }
  },
  "cells": [
    {
      "cell_type": "markdown",
      "source": [
        "# Schudeler Query from Bronce to Silver for Items"
      ],
      "metadata": {
        "id": "bTk_-_ern0Db"
      }
    },
    {
      "cell_type": "markdown",
      "source": [
        "Library"
      ],
      "metadata": {
        "id": "qXek7tsWn4Ry"
      }
    },
    {
      "cell_type": "code",
      "source": [
        "import pandas as pd\n",
        "from pandas_gbq import read_gbq, to_gbq\n",
        "import json"
      ],
      "metadata": {
        "id": "XbfBL_hen3hQ",
        "executionInfo": {
          "status": "ok",
          "timestamp": 1718607191387,
          "user_tz": 240,
          "elapsed": 3,
          "user": {
            "displayName": "",
            "userId": ""
          }
        }
      },
      "execution_count": 40,
      "outputs": []
    },
    {
      "cell_type": "markdown",
      "source": [
        "Project Info"
      ],
      "metadata": {
        "id": "udI9LWT6n7pr"
      }
    },
    {
      "cell_type": "code",
      "source": [
        "project_id = \"big-data-lol\"\n",
        "dataset_id_from = \"Bronze_LOL_Dataset\"\n",
        "dataset_id_to = \"Silver_LOL_Dataset\"\n",
        "table_id_from = \"bronze_batch_items\"\n",
        "table_id_to = \"silver_batch_items\""
      ],
      "metadata": {
        "id": "hz8081_xn8DK",
        "executionInfo": {
          "status": "ok",
          "timestamp": 1718607193667,
          "user_tz": 240,
          "elapsed": 10,
          "user": {
            "displayName": "",
            "userId": ""
          }
        }
      },
      "execution_count": 41,
      "outputs": []
    },
    {
      "cell_type": "markdown",
      "source": [
        "Lol current patch"
      ],
      "metadata": {
        "id": "f1xJIJRNn8NE"
      }
    },
    {
      "cell_type": "code",
      "source": [
        "current_patch = \"14.12.2\""
      ],
      "metadata": {
        "id": "AqfubQKSn8U6",
        "executionInfo": {
          "status": "ok",
          "timestamp": 1718607195094,
          "user_tz": 240,
          "elapsed": 2,
          "user": {
            "displayName": "",
            "userId": ""
          }
        }
      },
      "execution_count": 42,
      "outputs": []
    },
    {
      "cell_type": "markdown",
      "source": [
        "Query"
      ],
      "metadata": {
        "id": "Ld1Z_DsSn8df"
      }
    },
    {
      "cell_type": "code",
      "source": [
        "query = f'''\n",
        "SELECT DATA\n",
        "FROM {project_id}.{dataset_id_from}.{table_id_from}\n",
        "WHERE TIMESTAMP_TRUNC(_PARTITIONTIME, DAY) = TIMESTAMP(\"2024-06-16\")\n",
        "AND Patch = \"{current_patch}\"\n",
        "'''"
      ],
      "metadata": {
        "id": "qp_lFH5Nn8p7",
        "executionInfo": {
          "status": "ok",
          "timestamp": 1718607195094,
          "user_tz": 240,
          "elapsed": 2,
          "user": {
            "displayName": "",
            "userId": ""
          }
        }
      },
      "execution_count": 43,
      "outputs": []
    },
    {
      "cell_type": "markdown",
      "source": [
        "Query in BigQuery Dataset"
      ],
      "metadata": {
        "id": "zYd3mr1EoU4C"
      }
    },
    {
      "cell_type": "code",
      "source": [
        "df = read_gbq(query, project_id=project_id, dialect='standard')\n"
      ],
      "metadata": {
        "colab": {
          "base_uri": "https://localhost:8080/"
        },
        "id": "6p6mEbH6oVHB",
        "executionInfo": {
          "status": "ok",
          "timestamp": 1718607199141,
          "user_tz": 240,
          "elapsed": 2458,
          "user": {
            "displayName": "",
            "userId": ""
          }
        },
        "outputId": "98dd1422-7a0a-4748-9da1-c47281191680"
      },
      "execution_count": 44,
      "outputs": [
        {
          "output_type": "stream",
          "name": "stdout",
          "text": [
            "Downloading: 100%|\u001b[32m██████████\u001b[0m|\n"
          ]
        }
      ]
    },
    {
      "cell_type": "code",
      "source": [
        "df.head(1)"
      ],
      "metadata": {
        "colab": {
          "base_uri": "https://localhost:8080/",
          "height": 81
        },
        "id": "el6lTOnwzMHd",
        "executionInfo": {
          "status": "ok",
          "timestamp": 1718607199141,
          "user_tz": 240,
          "elapsed": 5,
          "user": {
            "displayName": "",
            "userId": ""
          }
        },
        "outputId": "ac2f2b2f-f789-4798-e643-f79eb3444207"
      },
      "execution_count": 45,
      "outputs": [
        {
          "output_type": "execute_result",
          "data": {
            "text/plain": [
              "                                                DATA\n",
              "0  {\"name\": \"Botas\", \"description\": \"<mainText><s..."
            ],
            "text/html": [
              "\n",
              "  <div id=\"df-5a454b88-c551-47c7-815e-8eccdfae791e\" class=\"colab-df-container\">\n",
              "    <div>\n",
              "<style scoped>\n",
              "    .dataframe tbody tr th:only-of-type {\n",
              "        vertical-align: middle;\n",
              "    }\n",
              "\n",
              "    .dataframe tbody tr th {\n",
              "        vertical-align: top;\n",
              "    }\n",
              "\n",
              "    .dataframe thead th {\n",
              "        text-align: right;\n",
              "    }\n",
              "</style>\n",
              "<table border=\"1\" class=\"dataframe\">\n",
              "  <thead>\n",
              "    <tr style=\"text-align: right;\">\n",
              "      <th></th>\n",
              "      <th>DATA</th>\n",
              "    </tr>\n",
              "  </thead>\n",
              "  <tbody>\n",
              "    <tr>\n",
              "      <th>0</th>\n",
              "      <td>{\"name\": \"Botas\", \"description\": \"&lt;mainText&gt;&lt;s...</td>\n",
              "    </tr>\n",
              "  </tbody>\n",
              "</table>\n",
              "</div>\n",
              "    <div class=\"colab-df-buttons\">\n",
              "\n",
              "  <div class=\"colab-df-container\">\n",
              "    <button class=\"colab-df-convert\" onclick=\"convertToInteractive('df-5a454b88-c551-47c7-815e-8eccdfae791e')\"\n",
              "            title=\"Convert this dataframe to an interactive table.\"\n",
              "            style=\"display:none;\">\n",
              "\n",
              "  <svg xmlns=\"http://www.w3.org/2000/svg\" height=\"24px\" viewBox=\"0 -960 960 960\">\n",
              "    <path d=\"M120-120v-720h720v720H120Zm60-500h600v-160H180v160Zm220 220h160v-160H400v160Zm0 220h160v-160H400v160ZM180-400h160v-160H180v160Zm440 0h160v-160H620v160ZM180-180h160v-160H180v160Zm440 0h160v-160H620v160Z\"/>\n",
              "  </svg>\n",
              "    </button>\n",
              "\n",
              "  <style>\n",
              "    .colab-df-container {\n",
              "      display:flex;\n",
              "      gap: 12px;\n",
              "    }\n",
              "\n",
              "    .colab-df-convert {\n",
              "      background-color: #E8F0FE;\n",
              "      border: none;\n",
              "      border-radius: 50%;\n",
              "      cursor: pointer;\n",
              "      display: none;\n",
              "      fill: #1967D2;\n",
              "      height: 32px;\n",
              "      padding: 0 0 0 0;\n",
              "      width: 32px;\n",
              "    }\n",
              "\n",
              "    .colab-df-convert:hover {\n",
              "      background-color: #E2EBFA;\n",
              "      box-shadow: 0px 1px 2px rgba(60, 64, 67, 0.3), 0px 1px 3px 1px rgba(60, 64, 67, 0.15);\n",
              "      fill: #174EA6;\n",
              "    }\n",
              "\n",
              "    .colab-df-buttons div {\n",
              "      margin-bottom: 4px;\n",
              "    }\n",
              "\n",
              "    [theme=dark] .colab-df-convert {\n",
              "      background-color: #3B4455;\n",
              "      fill: #D2E3FC;\n",
              "    }\n",
              "\n",
              "    [theme=dark] .colab-df-convert:hover {\n",
              "      background-color: #434B5C;\n",
              "      box-shadow: 0px 1px 3px 1px rgba(0, 0, 0, 0.15);\n",
              "      filter: drop-shadow(0px 1px 2px rgba(0, 0, 0, 0.3));\n",
              "      fill: #FFFFFF;\n",
              "    }\n",
              "  </style>\n",
              "\n",
              "    <script>\n",
              "      const buttonEl =\n",
              "        document.querySelector('#df-5a454b88-c551-47c7-815e-8eccdfae791e button.colab-df-convert');\n",
              "      buttonEl.style.display =\n",
              "        google.colab.kernel.accessAllowed ? 'block' : 'none';\n",
              "\n",
              "      async function convertToInteractive(key) {\n",
              "        const element = document.querySelector('#df-5a454b88-c551-47c7-815e-8eccdfae791e');\n",
              "        const dataTable =\n",
              "          await google.colab.kernel.invokeFunction('convertToInteractive',\n",
              "                                                    [key], {});\n",
              "        if (!dataTable) return;\n",
              "\n",
              "        const docLinkHtml = 'Like what you see? Visit the ' +\n",
              "          '<a target=\"_blank\" href=https://colab.research.google.com/notebooks/data_table.ipynb>data table notebook</a>'\n",
              "          + ' to learn more about interactive tables.';\n",
              "        element.innerHTML = '';\n",
              "        dataTable['output_type'] = 'display_data';\n",
              "        await google.colab.output.renderOutput(dataTable, element);\n",
              "        const docLink = document.createElement('div');\n",
              "        docLink.innerHTML = docLinkHtml;\n",
              "        element.appendChild(docLink);\n",
              "      }\n",
              "    </script>\n",
              "  </div>\n",
              "\n",
              "    </div>\n",
              "  </div>\n"
            ]
          },
          "metadata": {},
          "execution_count": 45
        }
      ]
    },
    {
      "cell_type": "code",
      "source": [
        "def json_to_dataframe(json_str):\n",
        "    # Cargar el JSON en un diccionario\n",
        "    json_data = json.loads(json_str)\n",
        "\n",
        "    # Crear un DataFrame a partir del diccionario\n",
        "    df = pd.DataFrame.from_dict([json_data])\n",
        "\n",
        "    return df\n",
        "\n"
      ],
      "metadata": {
        "id": "okzjhnaPoVyt",
        "executionInfo": {
          "status": "ok",
          "timestamp": 1718607203386,
          "user_tz": 240,
          "elapsed": 2,
          "user": {
            "displayName": "",
            "userId": ""
          }
        }
      },
      "execution_count": 46,
      "outputs": []
    },
    {
      "cell_type": "code",
      "source": [
        "df_processed = pd.concat([json_to_dataframe(row) for row in df['DATA']], ignore_index=True)\n"
      ],
      "metadata": {
        "id": "yq8SW-ySob8z",
        "executionInfo": {
          "status": "ok",
          "timestamp": 1718607208610,
          "user_tz": 240,
          "elapsed": 1429,
          "user": {
            "displayName": "",
            "userId": ""
          }
        }
      },
      "execution_count": 47,
      "outputs": []
    },
    {
      "cell_type": "code",
      "source": [
        "df_processed.columns.tolist()"
      ],
      "metadata": {
        "colab": {
          "base_uri": "https://localhost:8080/"
        },
        "id": "QyPMKcOIou2d",
        "executionInfo": {
          "status": "ok",
          "timestamp": 1718607208610,
          "user_tz": 240,
          "elapsed": 6,
          "user": {
            "displayName": "",
            "userId": ""
          }
        },
        "outputId": "ad23b955-8851-4f9d-c8bc-6ab72c0c8481"
      },
      "execution_count": 48,
      "outputs": [
        {
          "output_type": "execute_result",
          "data": {
            "text/plain": [
              "['name',\n",
              " 'description',\n",
              " 'colloq',\n",
              " 'plaintext',\n",
              " 'into',\n",
              " 'image',\n",
              " 'gold',\n",
              " 'tags',\n",
              " 'maps',\n",
              " 'stats',\n",
              " 'from',\n",
              " 'depth',\n",
              " 'inStore',\n",
              " 'effect',\n",
              " 'consumed',\n",
              " 'requiredAlly',\n",
              " 'stacks',\n",
              " 'hideFromAll',\n",
              " 'consumeOnFull',\n",
              " 'specialRecipe',\n",
              " 'requiredChampion']"
            ]
          },
          "metadata": {},
          "execution_count": 48
        }
      ]
    },
    {
      "cell_type": "code",
      "source": [
        "df_processed.head(1)"
      ],
      "metadata": {
        "colab": {
          "base_uri": "https://localhost:8080/",
          "height": 252
        },
        "id": "ImbexZirzzMO",
        "executionInfo": {
          "status": "ok",
          "timestamp": 1718607208611,
          "user_tz": 240,
          "elapsed": 4,
          "user": {
            "displayName": "",
            "userId": ""
          }
        },
        "outputId": "d46e354d-bf6a-4c25-af60-4ad34670e7a1"
      },
      "execution_count": 49,
      "outputs": [
        {
          "output_type": "execute_result",
          "data": {
            "text/plain": [
              "    name                                        description           colloq  \\\n",
              "0  Botas  <mainText><stats><attention>25</attention> de ...  ;Boots of Speed   \n",
              "\n",
              "                                         plaintext  \\\n",
              "0  Aumenta ligeramente la Velocidad de Movimiento.   \n",
              "\n",
              "                                                into  \\\n",
              "0  [3005, 3047, 3117, 3006, 3009, 3010, 3020, 311...   \n",
              "\n",
              "                                               image  \\\n",
              "0  {'full': '1001.png', 'sprite': 'item0.png', 'g...   \n",
              "\n",
              "                                                gold     tags  \\\n",
              "0  {'base': 300, 'purchasable': True, 'total': 30...  [Boots]   \n",
              "\n",
              "                                                maps  \\\n",
              "0  {'11': True, '12': True, '21': True, '22': Fal...   \n",
              "\n",
              "                          stats  ... depth  inStore effect consumed  \\\n",
              "0  {'FlatMovementSpeedMod': 25}  ...   NaN      NaN    NaN      NaN   \n",
              "\n",
              "  requiredAlly stacks  hideFromAll consumeOnFull specialRecipe  \\\n",
              "0          NaN    NaN          NaN           NaN           NaN   \n",
              "\n",
              "   requiredChampion  \n",
              "0               NaN  \n",
              "\n",
              "[1 rows x 21 columns]"
            ],
            "text/html": [
              "\n",
              "  <div id=\"df-ca4b6850-fac2-48c8-bec3-495ff2432768\" class=\"colab-df-container\">\n",
              "    <div>\n",
              "<style scoped>\n",
              "    .dataframe tbody tr th:only-of-type {\n",
              "        vertical-align: middle;\n",
              "    }\n",
              "\n",
              "    .dataframe tbody tr th {\n",
              "        vertical-align: top;\n",
              "    }\n",
              "\n",
              "    .dataframe thead th {\n",
              "        text-align: right;\n",
              "    }\n",
              "</style>\n",
              "<table border=\"1\" class=\"dataframe\">\n",
              "  <thead>\n",
              "    <tr style=\"text-align: right;\">\n",
              "      <th></th>\n",
              "      <th>name</th>\n",
              "      <th>description</th>\n",
              "      <th>colloq</th>\n",
              "      <th>plaintext</th>\n",
              "      <th>into</th>\n",
              "      <th>image</th>\n",
              "      <th>gold</th>\n",
              "      <th>tags</th>\n",
              "      <th>maps</th>\n",
              "      <th>stats</th>\n",
              "      <th>...</th>\n",
              "      <th>depth</th>\n",
              "      <th>inStore</th>\n",
              "      <th>effect</th>\n",
              "      <th>consumed</th>\n",
              "      <th>requiredAlly</th>\n",
              "      <th>stacks</th>\n",
              "      <th>hideFromAll</th>\n",
              "      <th>consumeOnFull</th>\n",
              "      <th>specialRecipe</th>\n",
              "      <th>requiredChampion</th>\n",
              "    </tr>\n",
              "  </thead>\n",
              "  <tbody>\n",
              "    <tr>\n",
              "      <th>0</th>\n",
              "      <td>Botas</td>\n",
              "      <td>&lt;mainText&gt;&lt;stats&gt;&lt;attention&gt;25&lt;/attention&gt; de ...</td>\n",
              "      <td>;Boots of Speed</td>\n",
              "      <td>Aumenta ligeramente la Velocidad de Movimiento.</td>\n",
              "      <td>[3005, 3047, 3117, 3006, 3009, 3010, 3020, 311...</td>\n",
              "      <td>{'full': '1001.png', 'sprite': 'item0.png', 'g...</td>\n",
              "      <td>{'base': 300, 'purchasable': True, 'total': 30...</td>\n",
              "      <td>[Boots]</td>\n",
              "      <td>{'11': True, '12': True, '21': True, '22': Fal...</td>\n",
              "      <td>{'FlatMovementSpeedMod': 25}</td>\n",
              "      <td>...</td>\n",
              "      <td>NaN</td>\n",
              "      <td>NaN</td>\n",
              "      <td>NaN</td>\n",
              "      <td>NaN</td>\n",
              "      <td>NaN</td>\n",
              "      <td>NaN</td>\n",
              "      <td>NaN</td>\n",
              "      <td>NaN</td>\n",
              "      <td>NaN</td>\n",
              "      <td>NaN</td>\n",
              "    </tr>\n",
              "  </tbody>\n",
              "</table>\n",
              "<p>1 rows × 21 columns</p>\n",
              "</div>\n",
              "    <div class=\"colab-df-buttons\">\n",
              "\n",
              "  <div class=\"colab-df-container\">\n",
              "    <button class=\"colab-df-convert\" onclick=\"convertToInteractive('df-ca4b6850-fac2-48c8-bec3-495ff2432768')\"\n",
              "            title=\"Convert this dataframe to an interactive table.\"\n",
              "            style=\"display:none;\">\n",
              "\n",
              "  <svg xmlns=\"http://www.w3.org/2000/svg\" height=\"24px\" viewBox=\"0 -960 960 960\">\n",
              "    <path d=\"M120-120v-720h720v720H120Zm60-500h600v-160H180v160Zm220 220h160v-160H400v160Zm0 220h160v-160H400v160ZM180-400h160v-160H180v160Zm440 0h160v-160H620v160ZM180-180h160v-160H180v160Zm440 0h160v-160H620v160Z\"/>\n",
              "  </svg>\n",
              "    </button>\n",
              "\n",
              "  <style>\n",
              "    .colab-df-container {\n",
              "      display:flex;\n",
              "      gap: 12px;\n",
              "    }\n",
              "\n",
              "    .colab-df-convert {\n",
              "      background-color: #E8F0FE;\n",
              "      border: none;\n",
              "      border-radius: 50%;\n",
              "      cursor: pointer;\n",
              "      display: none;\n",
              "      fill: #1967D2;\n",
              "      height: 32px;\n",
              "      padding: 0 0 0 0;\n",
              "      width: 32px;\n",
              "    }\n",
              "\n",
              "    .colab-df-convert:hover {\n",
              "      background-color: #E2EBFA;\n",
              "      box-shadow: 0px 1px 2px rgba(60, 64, 67, 0.3), 0px 1px 3px 1px rgba(60, 64, 67, 0.15);\n",
              "      fill: #174EA6;\n",
              "    }\n",
              "\n",
              "    .colab-df-buttons div {\n",
              "      margin-bottom: 4px;\n",
              "    }\n",
              "\n",
              "    [theme=dark] .colab-df-convert {\n",
              "      background-color: #3B4455;\n",
              "      fill: #D2E3FC;\n",
              "    }\n",
              "\n",
              "    [theme=dark] .colab-df-convert:hover {\n",
              "      background-color: #434B5C;\n",
              "      box-shadow: 0px 1px 3px 1px rgba(0, 0, 0, 0.15);\n",
              "      filter: drop-shadow(0px 1px 2px rgba(0, 0, 0, 0.3));\n",
              "      fill: #FFFFFF;\n",
              "    }\n",
              "  </style>\n",
              "\n",
              "    <script>\n",
              "      const buttonEl =\n",
              "        document.querySelector('#df-ca4b6850-fac2-48c8-bec3-495ff2432768 button.colab-df-convert');\n",
              "      buttonEl.style.display =\n",
              "        google.colab.kernel.accessAllowed ? 'block' : 'none';\n",
              "\n",
              "      async function convertToInteractive(key) {\n",
              "        const element = document.querySelector('#df-ca4b6850-fac2-48c8-bec3-495ff2432768');\n",
              "        const dataTable =\n",
              "          await google.colab.kernel.invokeFunction('convertToInteractive',\n",
              "                                                    [key], {});\n",
              "        if (!dataTable) return;\n",
              "\n",
              "        const docLinkHtml = 'Like what you see? Visit the ' +\n",
              "          '<a target=\"_blank\" href=https://colab.research.google.com/notebooks/data_table.ipynb>data table notebook</a>'\n",
              "          + ' to learn more about interactive tables.';\n",
              "        element.innerHTML = '';\n",
              "        dataTable['output_type'] = 'display_data';\n",
              "        await google.colab.output.renderOutput(dataTable, element);\n",
              "        const docLink = document.createElement('div');\n",
              "        docLink.innerHTML = docLinkHtml;\n",
              "        element.appendChild(docLink);\n",
              "      }\n",
              "    </script>\n",
              "  </div>\n",
              "\n",
              "    </div>\n",
              "  </div>\n"
            ]
          },
          "metadata": {},
          "execution_count": 49
        }
      ]
    },
    {
      "cell_type": "code",
      "source": [
        "from google.cloud import bigquery\n",
        "schema = [\n",
        "  bigquery.SchemaField('name', 'STRING', 'REQUIRED'),\n",
        "  bigquery.SchemaField('description', 'STRING', 'NULLABLE'),\n",
        "  bigquery.SchemaField('colloq', 'STRING', 'NULLABLE'),\n",
        "  bigquery.SchemaField('plaintext', 'STRING', 'NULLABLE'),\n",
        "  bigquery.SchemaField('into', 'STRING', 'NULLABLE'),\n",
        "  bigquery.SchemaField('image', 'STRING', 'NULLABLE'),\n",
        "  bigquery.SchemaField('gold', 'STRING', 'NULLABLE'),\n",
        "  bigquery.SchemaField('tags', 'STRING', 'NULLABLE'),\n",
        "  bigquery.SchemaField('maps', 'STRING', 'NULLABLE'),\n",
        "  bigquery.SchemaField('stats', 'STRING', 'NULLABLE'),\n",
        "  bigquery.SchemaField('from', 'STRING', 'NULLABLE'),\n",
        "  bigquery.SchemaField('depth', 'STRING', 'NULLABLE'),\n",
        "  bigquery.SchemaField('inStore', 'STRING', 'NULLABLE'),\n",
        "  bigquery.SchemaField('effect', 'STRING', 'NULLABLE'),\n",
        "  bigquery.SchemaField('consumed', 'STRING', 'NULLABLE'),\n",
        "  bigquery.SchemaField('requiredAlly', 'STRING', 'NULLABLE'),\n",
        "  bigquery.SchemaField('stacks', 'STRING', 'NULLABLE'),\n",
        "  bigquery.SchemaField('hideFromAll', 'STRING', 'NULLABLE'),\n",
        "  bigquery.SchemaField('consumeOnFull', 'STRING', 'NULLABLE'),\n",
        "  bigquery.SchemaField('specialRecipe', 'STRING', 'NULLABLE'),\n",
        "  bigquery.SchemaField('requiredChampion', 'STRING', 'NULLABLE')\n",
        "]\n",
        "client = bigquery.Client(project=project_id)\n",
        "\n",
        "validated_path = '/tmp/validated_' + \"champs_to_silver.csv\"\n",
        "# se transforma el df a csv\n",
        "df_processed.to_csv(validated_path, index=False)\n",
        "\n",
        "print(validated_path)\n",
        "# Cargar los datos validados en BigQuery\n",
        "dataset_ref = client.dataset(dataset_id_to)\n",
        "table_ref = dataset_ref.table(table_id_to)\n",
        "\n",
        "#configuracion del job\n",
        "job_config = bigquery.LoadJobConfig()\n",
        "\n",
        "job_config.source_format = bigquery.SourceFormat.CSV\n",
        "job_config.skip_leading_rows = 1\n",
        "job_config.schema = schema\n",
        "job_config.write_disposition = bigquery.WriteDisposition.WRITE_TRUNCATE\n",
        "\n",
        "\n",
        "with open(validated_path, \"rb\") as source_file:\n",
        "    job = client.load_table_from_file(source_file, table_ref, job_config=job_config)\n",
        "\n",
        "job.result()\n"
      ],
      "metadata": {
        "id": "8IZbSvoRocE5",
        "colab": {
          "base_uri": "https://localhost:8080/"
        },
        "executionInfo": {
          "status": "ok",
          "timestamp": 1718607215869,
          "user_tz": 240,
          "elapsed": 2839,
          "user": {
            "displayName": "",
            "userId": ""
          }
        },
        "outputId": "50e0433e-1511-4348-d230-356c775db9c4"
      },
      "execution_count": 50,
      "outputs": [
        {
          "output_type": "stream",
          "name": "stdout",
          "text": [
            "/tmp/validated_champs_to_silver.csv\n"
          ]
        },
        {
          "output_type": "execute_result",
          "data": {
            "text/plain": [
              "LoadJob<project=big-data-lol, location=US, id=6dbd22b9-f9e3-4f5d-b30d-1007b1f9b631>"
            ]
          },
          "metadata": {},
          "execution_count": 50
        }
      ]
    }
  ]
}